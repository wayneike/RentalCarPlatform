{
 "cells": [
  {
   "cell_type": "code",
   "execution_count": 1,
   "id": "1787fdc1-324d-4d6a-bc85-2aa1c6451598",
   "metadata": {},
   "outputs": [
    {
     "name": "stdin",
     "output_type": "stream",
     "text": [
      "\n",
      "Enter your name:  John Doe\n"
     ]
    },
    {
     "name": "stdout",
     "output_type": "stream",
     "text": [
      "\n",
      "Welcome to Car Rental Platform, John Doe\n",
      "1. View Available Cars\n",
      "2. Rent a Car\n",
      "3. Return a Car\n",
      "4. Exit\n"
     ]
    },
    {
     "name": "stdin",
     "output_type": "stream",
     "text": [
      "\n",
      "How can we help you?\n",
      " 1\n"
     ]
    },
    {
     "name": "stdout",
     "output_type": "stream",
     "text": [
      "Available Cars for Rental:\n",
      "1. Chevrolet Corvette (2023) - Available Quantity: 2\n",
      "2. Ford Mustang (2021) - Available Quantity: 2\n",
      "3. Honda Civic (2019) - Available Quantity: 3\n",
      "4. Toyota Prius (2020) - Available Quantity: 5\n",
      "\n",
      "Welcome to Car Rental Platform, John Doe\n",
      "1. View Available Cars\n",
      "2. Rent a Car\n",
      "3. Return a Car\n",
      "4. Exit\n"
     ]
    },
    {
     "name": "stdin",
     "output_type": "stream",
     "text": [
      "\n",
      "How can we help you?\n",
      " 2\n"
     ]
    },
    {
     "name": "stdout",
     "output_type": "stream",
     "text": [
      "Available Cars for Rental:\n",
      "1. Chevrolet Corvette (2023) - Available Quantity: 2\n",
      "2. Ford Mustang (2021) - Available Quantity: 2\n",
      "3. Honda Civic (2019) - Available Quantity: 3\n",
      "4. Toyota Prius (2020) - Available Quantity: 5\n"
     ]
    },
    {
     "name": "stdin",
     "output_type": "stream",
     "text": [
      "\n",
      "Enter the ID of the car you want to rent:  1\n",
      "\n",
      "Enter rental mode\n",
      "1: hourly\n",
      "2: daily\n",
      "3: weekly  2\n",
      "\n",
      "Enter quantity:  1\n"
     ]
    },
    {
     "name": "stdout",
     "output_type": "stream",
     "text": [
      "You have successfully rented 1 Chevrolet Corvette(s) for 2 rental period.\n",
      "Please pay: $50\n",
      "\n",
      "Welcome to Car Rental Platform, John Doe\n",
      "1. View Available Cars\n",
      "2. Rent a Car\n",
      "3. Return a Car\n",
      "4. Exit\n"
     ]
    },
    {
     "name": "stdin",
     "output_type": "stream",
     "text": [
      "\n",
      "How can we help you?\n",
      " 3\n",
      "\n",
      "Enter the ID of the car you want to return:  1\n"
     ]
    },
    {
     "name": "stdout",
     "output_type": "stream",
     "text": [
      "Thank you for returning 1 Chevrolet Corvette(s). Your bill amount is: $0.050436999999999996\n",
      "\n",
      "Welcome to Car Rental Platform, John Doe\n",
      "1. View Available Cars\n",
      "2. Rent a Car\n",
      "3. Return a Car\n",
      "4. Exit\n"
     ]
    },
    {
     "name": "stdin",
     "output_type": "stream",
     "text": [
      "\n",
      "How can we help you?\n",
      " 4\n"
     ]
    },
    {
     "name": "stdout",
     "output_type": "stream",
     "text": [
      "Thank you for using our Car Rental Platform.\n"
     ]
    }
   ],
   "source": [
    "import CarRentalSystem as c\n",
    "import Customer as cc\n",
    "\n",
    "if __name__ == \"__main__\":\n",
    "    rental_system = c.CarRentalSystem()\n",
    "\n",
    "    cust_name = input(\"\\nEnter your name: \")\n",
    "    customer = cc.Customer(cust_name)\n",
    "\n",
    "    while True:\n",
    "        print(\"\\nWelcome to Car Rental Platform, \" + customer.name)\n",
    "        print(\"1. View Available Cars\")\n",
    "        print(\"2. Rent a Car\")\n",
    "        print(\"3. Return a Car\")\n",
    "        print(\"4. Exit\")\n",
    "        choice = input(\"\\nHow can we help you?\\n\")\n",
    "\n",
    "        if choice == \"1\":\n",
    "            rental_system.display_inventory()\n",
    "        elif choice == \"2\":\n",
    "            rental_system.display_inventory()\n",
    "            car_id = int(input(\"\\nEnter the ID of the car you want to rent: \"))\n",
    "            rental_period = input(\"\\nEnter rental mode\\n1: hourly\\n2: daily\\n3: weekly \").lower()\n",
    "            quantity = int(input(\"\\nEnter quantity: \"))\n",
    "            customer.request_car(rental_system, car_id, rental_period, quantity)\n",
    "        elif choice == \"3\":\n",
    "            car_id = int(input(\"\\nEnter the ID of the car you want to return: \"))\n",
    "            customer.return_car(rental_system, car_id)\n",
    "        elif choice == \"4\":\n",
    "            print(\"Thank you for using our Car Rental Platform.\")\n",
    "            break\n",
    "        else:\n",
    "            print(\"Invalid choice. Please try again.\")"
   ]
  },
  {
   "cell_type": "code",
   "execution_count": null,
   "id": "6ec09ec6-0478-4457-92b7-8b9d7709f32f",
   "metadata": {},
   "outputs": [],
   "source": []
  }
 ],
 "metadata": {
  "kernelspec": {
   "display_name": "Python 3 (ipykernel)",
   "language": "python",
   "name": "python3"
  },
  "language_info": {
   "codemirror_mode": {
    "name": "ipython",
    "version": 3
   },
   "file_extension": ".py",
   "mimetype": "text/x-python",
   "name": "python",
   "nbconvert_exporter": "python",
   "pygments_lexer": "ipython3",
   "version": "3.11.7"
  }
 },
 "nbformat": 4,
 "nbformat_minor": 5
}
